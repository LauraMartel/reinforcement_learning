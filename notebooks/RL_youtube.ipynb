{
 "cells": [
  {
   "cell_type": "code",
   "execution_count": 6,
   "id": "2adab823-d60b-4a2d-ad76-503e91353317",
   "metadata": {},
   "outputs": [
    {
     "name": "stdout",
     "output_type": "stream",
     "text": [
      "Requirement already satisfied: opencv-python in /home/lauradata/.pyenv/versions/3.8.12/envs/reinforcement_learning/lib/python3.8/site-packages (4.6.0.66)\n",
      "Requirement already satisfied: numpy>=1.17.3 in /home/lauradata/.pyenv/versions/3.8.12/envs/reinforcement_learning/lib/python3.8/site-packages (from opencv-python) (1.23.5)\n",
      "Note: you may need to restart the kernel to use updated packages.\n"
     ]
    }
   ],
   "source": [
    "pip install opencv-python"
   ]
  },
  {
   "cell_type": "code",
   "execution_count": 7,
   "id": "a664a611-725f-48fc-b2e5-c4ae24e7c32f",
   "metadata": {},
   "outputs": [
    {
     "name": "stdout",
     "output_type": "stream",
     "text": [
      "Requirement already satisfied: pillow in /home/lauradata/.pyenv/versions/3.8.12/envs/reinforcement_learning/lib/python3.8/site-packages (9.3.0)\n",
      "Note: you may need to restart the kernel to use updated packages.\n"
     ]
    }
   ],
   "source": [
    "pip install pillow"
   ]
  },
  {
   "cell_type": "code",
   "execution_count": 8,
   "id": "e8159449-a528-4876-a164-8b5eaee1960d",
   "metadata": {},
   "outputs": [],
   "source": [
    "import numpy as np\n",
    "from PIL import Image\n",
    "import matplotlib.pyplot as plt\n",
    "import pickle\n",
    "from matplotlib import style\n",
    "import time\n",
    "import cv2"
   ]
  },
  {
   "cell_type": "code",
   "execution_count": 9,
   "id": "902e396f-72b2-4973-b2e1-02eebceeba53",
   "metadata": {},
   "outputs": [],
   "source": [
    "style.use(\"ggplot\")"
   ]
  },
  {
   "cell_type": "raw",
   "id": "b2d88e61-d437-4291-b5a7-24c54d6e55c3",
   "metadata": {},
   "source": []
  },
  {
   "cell_type": "code",
   "execution_count": 10,
   "id": "6d13aca3-ba4e-4dae-b2a4-18abef01344c",
   "metadata": {},
   "outputs": [
    {
     "name": "stdout",
     "output_type": "stream",
     "text": [
      "on # 0, epsilon:0.9\n",
      "3000 ep mean nan\n"
     ]
    },
    {
     "name": "stderr",
     "output_type": "stream",
     "text": [
      "/home/lauradata/.pyenv/versions/3.8.12/envs/reinforcement_learning/lib/python3.8/site-packages/numpy/core/fromnumeric.py:3432: RuntimeWarning: Mean of empty slice.\n",
      "  return _methods._mean(a, axis=axis, dtype=dtype,\n",
      "/home/lauradata/.pyenv/versions/3.8.12/envs/reinforcement_learning/lib/python3.8/site-packages/numpy/core/_methods.py:190: RuntimeWarning: invalid value encountered in double_scalars\n",
      "  ret = ret.dtype.type(ret / rcount)\n"
     ]
    },
    {
     "name": "stdout",
     "output_type": "stream",
     "text": [
      "on # 3000, epsilon:0.49390083359356435\n",
      "3000 ep mean -163.261\n",
      "on # 6000, epsilon:0.27104225936046566\n",
      "3000 ep mean -114.598\n",
      "on # 9000, epsilon:0.14874221981913022\n",
      "3000 ep mean -82.867\n",
      "on # 12000, epsilon:0.08162656262136181\n",
      "3000 ep mean -69.434\n",
      "on # 15000, epsilon:0.044794919246742226\n",
      "3000 ep mean -57.922\n",
      "on # 18000, epsilon:0.024582497729691496\n",
      "3000 ep mean -49.44433333333333\n",
      "on # 21000, epsilon:0.01349035124500733\n",
      "3000 ep mean -41.587666666666664\n",
      "on # 24000, epsilon:0.0074032174726434705\n",
      "3000 ep mean -35.00566666666667\n"
     ]
    },
    {
     "data": {
      "image/png": "[encoded data removed]",
      "text/plain": [
       "<Figure size 640x480 with 1 Axes>"
      ]
     },
     "metadata": {},
     "output_type": "display_data"
    }
   ],
   "source": [
    "SIZE = 10  # 10x10 grid player, food, enemy will be initalize at random location at 10x10 grids\n",
    "HM_EPISODES = 25000\n",
    "MOVE_PENALTY = 1\n",
    "ENEMY_PENALTY = 300\n",
    "FOOD_REWARD = 25\n",
    "\n",
    "epsilon = 0.9 # will change with time\n",
    "EPS_DECAY = 0.9998\n",
    "SHOW_EVERY = 3000\n",
    "\n",
    "start_q_table = None #or filename\n",
    "\n",
    "LEARNING_RATE = 0.1\n",
    "DISCOUNT = 0.95\n",
    "\n",
    "PLAYER_N = 1\n",
    "FOOD_N = 2\n",
    "ENEMY_N = 3\n",
    "\n",
    "d = {1: (255, 175, 0),   # bgr color\n",
    "    2: (0, 255,0),\n",
    "    3: (0,0,255)}\n",
    "\n",
    "class Blob:\n",
    "    def __init__(self):\n",
    "        self.x = np.random.randint(0, SIZE)\n",
    "        self.y = np.random.randint(0, SIZE)\n",
    "    def __str__(self):\n",
    "        return f\"{self.x}, {self.y}\"   # Print the blob location\n",
    "    def __sub__(self, other):  # define other blob and strubstract it from the other blob\n",
    "        return (self.x - other.x, self.y - other.y)\n",
    "    def action(self, choice):  # can only move diagonaly\n",
    "        if choice == 0:\n",
    "            self.move(x=1, y= 1)\n",
    "        elif choice == 1:\n",
    "            self.move(x=-1, y=-1)\n",
    "        elif choice == 2:\n",
    "            self.move(x=-1, y=1)\n",
    "        elif choice == 3:\n",
    "            self.move(x=1, y=-1)\n",
    "    def move(self, x=False, y=False):\n",
    "        if not x:\n",
    "            self.x += np.random.randint(-1,2)\n",
    "        else:\n",
    "            self.x += x\n",
    "        if not y:\n",
    "            self.y += np.random.randint(-1,2)\n",
    "        else:\n",
    "            self.y += y\n",
    "            \n",
    "        if self.x <0:\n",
    "            self.x = 0\n",
    "        elif self.x > SIZE-1: # size 10 but positions 0 through 9\n",
    "            self.x = SIZE-1\n",
    "        if self.y <0:\n",
    "            self.y = 0\n",
    "        elif self.y > SIZE-1: \n",
    "            self.y = SIZE-1\n",
    "\n",
    "if start_q_table is None:\n",
    "    q_table = {}\n",
    "    for x1 in range(-SIZE+1, SIZE):\n",
    "        for y1 in range(-SIZE+1, SIZE):\n",
    "            for x2 in range(-SIZE+1, SIZE):\n",
    "                for y2 in range(-SIZE+1, SIZE):\n",
    "                    q_table[((x1,y1), (x2,y2))] = [np.random.uniform(-5,0) for i in range(4)]\n",
    "else:\n",
    "    with open(start_q_table, \"rb\") as f:\n",
    "        q_table = pickle.load(f)\n",
    "\n",
    "episode_rewards= []\n",
    "for episode in range(HM_EPISODES):\n",
    "    player = Blob()\n",
    "    food = Blob()\n",
    "    enemy = Blob()\n",
    "    \n",
    "    if episode % SHOW_EVERY ==0:\n",
    "        print(f\"on # {episode}, epsilon:{epsilon}\")\n",
    "        print(f\"{SHOW_EVERY} ep mean {np.mean(episode_rewards[-SHOW_EVERY:])}\")\n",
    "        show = True\n",
    "    else:\n",
    "        show = False\n",
    "    episode_reward = 0\n",
    "    for i in range(200):\n",
    "        obs = (player-food, player-enemy)\n",
    "        if np.random.random()>epsilon:\n",
    "            action = np.argmax(q_table[obs])\n",
    "        else:\n",
    "            action = np.random.randint(0,4)\n",
    "        player.action(action)\n",
    "        # enemy.move()\n",
    "        if player.x == enemy.x and player.y == enemy.y:\n",
    "            reward = -ENEMY_PENALTY\n",
    "        elif player.x == food.x and player.y ==food.y:\n",
    "            reward = FOOD_REWARD\n",
    "        else:\n",
    "            reward = -MOVE_PENALTY\n",
    "        new_obs = (player-food, player-enemy)\n",
    "        max_future_q = np.max(q_table[new_obs])\n",
    "        current_q = q_table[obs][action]\n",
    "        if reward == FOOD_REWARD:\n",
    "            new_q = FOOD_REWARD\n",
    "        elif reward == -ENEMY_PENALTY:\n",
    "            new_q = -ENEMY_PENALTY\n",
    "        else:\n",
    "            new_q = (1-LEARNING_RATE)*current_q+LEARNING_RATE*(reward+DISCOUNT*max_future_q)\n",
    "        q_table[obs][action] = new_q\n",
    "        if show:\n",
    "            env = np.zeros((SIZE, SIZE, 3), dtype=np.uint8)\n",
    "            env[food.y][food.x] = d[FOOD_N]\n",
    "            env[player.y][player.x] = d[PLAYER_N]\n",
    "            env[enemy.y][enemy.x] = d[ENEMY_N]\n",
    "            img = Image.fromarray(env,\"RGB\")\n",
    "            img = img.resize((300,300))\n",
    "            cv2.imshow(\"\", np.array(img))\n",
    "            if reward == FOOD_REWARD or reward == -ENEMY_PENALTY:\n",
    "                if cv2.waitKey(500) & 0xFF== ord(\"q\"):\n",
    "                    break\n",
    "            else:\n",
    "                if cv2.waitKey(1) & 0xFF== ord(\"q\"):\n",
    "                    break\n",
    "        episode_reward += reward\n",
    "        if reward == FOOD_REWARD or reward == -ENEMY_PENALTY:\n",
    "            break\n",
    "    episode_rewards.append(episode_reward)\n",
    "    epsilon *= EPS_DECAY\n",
    "\n",
    "moving_avg = np.convolve(episode_rewards, np.ones((SHOW_EVERY,))/SHOW_EVERY, mode=\"valid\")\n",
    "plt.plot([i for i in range(len(moving_avg))], moving_avg)\n",
    "plt.ylabel(f\"reward{SHOW_EVERY} ma\")\n",
    "plt.xlabel(\"episode #\")\n",
    "plt.show()\n",
    "\n",
    "with open(f\"q_table-{int(time.time())}.pickle\", \"wb\") as f:\n",
    "    pickle.dump(q_table,f)"
   ]
  },
  {
   "cell_type": "code",
   "execution_count": null,
   "id": "94873110-37b8-4e3f-a740-fbd75e494513",
   "metadata": {},
   "outputs": [],
   "source": []
  }
 ],
 "metadata": {
  "kernelspec": {
   "display_name": "Python 3 (ipykernel)",
   "language": "python",
   "name": "python3"
  },
  "language_info": {
   "codemirror_mode": {
    "name": "ipython",
    "version": 3
   },
   "file_extension": ".py",
   "mimetype": "text/x-python",
   "name": "python",
   "nbconvert_exporter": "python",
   "pygments_lexer": "ipython3",
   "version": "3.8.12"
  },
  "vscode": {
   "interpreter": {
    "hash": "eefa8d817d47bfeb795d6b1a1f08ab598be58cbefd848c033aca6f45f46d3255"
   }
  }
 },
 "nbformat": 4,
 "nbformat_minor": 5
}
